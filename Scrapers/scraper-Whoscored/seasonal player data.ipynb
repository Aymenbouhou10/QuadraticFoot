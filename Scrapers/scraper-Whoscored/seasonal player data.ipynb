{
 "cells": [
  {
   "cell_type": "code",
   "execution_count": 1,
   "metadata": {},
   "outputs": [],
   "source": [
    "import time\n",
    "import numpy as np\n",
    "import pandas as pd\n",
    "import time\n",
    "import pickle\n",
    "import sys\n",
    "from tqdm import tqdm\n",
    "from selenium import webdriver\n",
    "from selenium.webdriver.common.by import By\n",
    "from selenium.webdriver.chrome.options import Options\n",
    "from selenium.webdriver.chrome.service import Service\n",
    "from webdriver_manager.chrome import ChromeDriverManager\n",
    "from selenium import webdriver\n",
    "from selenium.webdriver.chrome.options import Options"
   ]
  },
  {
   "cell_type": "code",
   "execution_count": 23,
   "metadata": {},
   "outputs": [],
   "source": [
    "slp = 1.5"
   ]
  },
  {
   "cell_type": "code",
   "execution_count": 2,
   "metadata": {},
   "outputs": [],
   "source": [
    "options = Options()\n",
    "options.add_argument(\"start-maximized\")\n",
    "driver = webdriver.Chrome(service=Service(ChromeDriverManager().install()), options=options)\n",
    "driver.get('https:/1xbet.whoscored.com/')\n",
    "driver.implicitly_wait(3)\n",
    "driver.close()"
   ]
  },
  {
   "cell_type": "code",
   "execution_count": 3,
   "metadata": {},
   "outputs": [],
   "source": [
    "def crawling_player_statistics(URL):\n",
    "    \"\"\"\n",
    "    crawling player statistics of certain league and season.\n",
    "    \n",
    "    Args :\n",
    "        URL : player statistics webpage URL\n",
    "        \n",
    "    return :\n",
    "        player statistics (dataframe)\n",
    "    \n",
    "    \"\"\"\n",
    "    url = str(URL)\n",
    "    options = Options()\n",
    "    options.add_argument(\"start-maximized\")\n",
    "    driver = webdriver.Chrome(service=Service(ChromeDriverManager().install()), options=options)\n",
    "    driver.get(URL)    \n",
    "    \n",
    "    try:\n",
    "        driver.find_element(By.XPATH, '//*[@id=\"qc-cmp2-ui\"]/div[2]/div/button[2]/span').click()\n",
    "    except NoSuchElementException:\n",
    "        pass\n",
    "\n",
    "    driver.find_element(By.XPATH, '//*[@id=\"apps\"]/dd[2]/a').click()\n",
    "    time.sleep(5)\n",
    "    page = driver.find_elements(By.CSS_SELECTOR, '#statistics-paging-summary > div > dl.listbox.right > dt > b')[0].get_attribute(\"textContent\").split(\"\\\\\")[0]\n",
    "    page = int(page.split('/')[1].split(' ')[0])\n",
    "    player_statistics_df = pd.DataFrame(columns=[\n",
    "        \"player_name\", \"team_number\", \"team_name\", \"Apps\", \"Mins\", \"Goals\",\n",
    "        \"Assists\", \"Yel\", \"Red\", \"SpG\",\"PS%\", \"AerialsWon\",\"MoM\",\"Rating\"])\n",
    "    \n",
    "    with tqdm(total=page, file=sys.stdout) as pbar :\n",
    "      \n",
    "        for i in range(page):\n",
    "            if i != 0:\n",
    "                driver.find_element(By.ID, 'next').click()\n",
    "                time.sleep(slp)\n",
    "\n",
    "            temp_df = pd.DataFrame(columns=[\n",
    "                \"player_name\", \"team_number\", \"team_name\", \"Apps\", \"Mins\", \"Goals\",\n",
    "                \"Assists\", \"Yel\", \"Red\", \"SpG\",\"PS%\", \"AerialsWon\",\"MoM\",\"Rating\"])\n",
    "            elements = driver.find_elements(By.CSS_SELECTOR, \"#player-table-statistics-body tr\")\n",
    "\n",
    "            for element in elements:\n",
    "                player_statistics_dict = { \n",
    "                    \"player_name\": element.find_elements(By.CSS_SELECTOR, \"td\")[0].find_elements(By.CSS_SELECTOR, \"a\")[0].\n",
    "                    find_elements(By.CSS_SELECTOR, \"span\")[0].get_attribute(\"textContent\").split(\"\\t\")[0],\n",
    "                    \"team_number\": element.find_elements(By.CSS_SELECTOR, \"td\")[0].\n",
    "                    find_elements(By.CSS_SELECTOR, \"a\")[1].get_attribute(\"href\").split(\"/\")[4],\n",
    "                    \"team_name\": element.find_elements(By.CSS_SELECTOR, \"td\")[0].find_elements(By.CSS_SELECTOR, (\"a\"))[1].find_elements(By.CSS_SELECTOR, \"span\")[0].get_attribute(\"textContent\").split(\"\\t\")[0].split(\",\")[0],\n",
    "                    \"Apps\": element.find_elements(By.CSS_SELECTOR, \"td\")[2].get_attribute(\"textContent\").split(\"\\t\")[0],\n",
    "                    \"Mins\": element.find_elements(By.CSS_SELECTOR, \"td\")[3].get_attribute(\"textContent\").split(\"\\t\")[0], \n",
    "                    \"Goals\": element.find_elements(By.CSS_SELECTOR, \"td\")[4].get_attribute(\"textContent\").split(\"\\t\")[0],\n",
    "                    \"Assists\": element.find_elements(By.CSS_SELECTOR, \"td\")[5].get_attribute(\"textContent\").split(\"\\t\")[0], \n",
    "                    \"Yel\": element.find_elements(By.CSS_SELECTOR, \"td\")[6].get_attribute(\"textContent\").split(\"\\t\")[0], \n",
    "                    \"Red\": element.find_elements(By.CSS_SELECTOR, \"td\")[7].get_attribute(\"textContent\").split(\"\\t\")[0],\n",
    "                    \"SpG\": element.find_elements(By.CSS_SELECTOR, \"td\")[8].get_attribute(\"textContent\").split(\"\\t\")[0],\n",
    "                    \"PS%\": element.find_elements(By.CSS_SELECTOR, \"td\")[9].get_attribute(\"textContent\").split(\"\\t\")[0],\n",
    "                    \"AerialsWon\": element.find_elements(By.CSS_SELECTOR, \"td\")[10].get_attribute(\"textContent\").split(\"\\t\")[0],\n",
    "                    \"MoM\": element.find_elements(By.CSS_SELECTOR, \"td\")[11].get_attribute(\"textContent\").split(\"\\t\")[0],\n",
    "                    \"Rating\": element.find_elements(By.CSS_SELECTOR, \"td\")[12].get_attribute(\"textContent\").split(\"\\t\")[0],\n",
    "                }\n",
    "                temp_df.loc[len(temp_df)] = player_statistics_dict\n",
    "\n",
    "            player_statistics_df = pd.concat([player_statistics_df,temp_df])\n",
    "            pbar.update(1)\n",
    "            pbar.set_description('page {}'.format(i+1))\n",
    "            \n",
    "    driver.close()\n",
    "    player_statistics_df.replace(\"-\", \"0\", inplace=True)\n",
    "    return(player_statistics_df)\n",
    "    "
   ]
  },
  {
   "cell_type": "code",
   "execution_count": 4,
   "metadata": {},
   "outputs": [],
   "source": [
    "def crawling_player_statistics_defensive(URL):\n",
    "    \"\"\"\n",
    "    crawling player statistics(defensive) of certain league and season.\n",
    "    \n",
    "    Args :\n",
    "        URL : player statistics webpage URL\n",
    "        \n",
    "    return :\n",
    "        player statistics (dataframe)\n",
    "    \n",
    "    \"\"\"\n",
    "    url = str(URL)\n",
    "    options = Options()\n",
    "    options.add_argument(\"start-maximized\")\n",
    "    driver = webdriver.Chrome(service=Service(ChromeDriverManager().install()), options=options)\n",
    "    driver.get(url)   \n",
    "\n",
    "    time.sleep(slp) \n",
    "\n",
    "    try:\n",
    "        driver.find_element(By.XPATH, '//*[@id=\"qc-cmp2-ui\"]/div[2]/div/button[2]/span').click()\n",
    "    except NoSuchElementException:\n",
    "        pass\n",
    "    \n",
    "    time.sleep(slp)\n",
    "    \n",
    "    driver.find_element(By.LINK_TEXT, \"Defensive\").click()\n",
    "\n",
    "    \n",
    "    time.sleep(slp)\n",
    "\n",
    "    \n",
    "    driver.find_element(By.XPATH, '/html/body/div[5]/div[5]/div[3]/div[1]/div[2]/dl[2]/dd[2]/a').click()\n",
    "\n",
    "\n",
    "    time.sleep(slp)\n",
    "    page = driver.find_elements(By.CSS_SELECTOR, '#statistics-paging-defensive > div > dl.listbox.right > dt > b')[0].get_attribute(\"textContent\")\n",
    "    page = int(page.split('/')[1].split(' ')[0])\n",
    "    \n",
    "    player_statistics_df = pd.DataFrame(columns=[\n",
    "            \"player_name\", \"team_number\", \"team_name\", \"age\",\"position\", \"Apps\", \"Mins\", \"Tackles\",\n",
    "            \"Inter\", \"Fouls\", \"Offsides\", \"Clear\",\"Drb\", \"Blocks\",\"OwnG\",\"Rating\"])\n",
    "    \n",
    "    with tqdm(total=page, file=sys.stdout) as pbar :\n",
    "        for i in range(page):\n",
    "            if i != 0:\n",
    "                driver.find_element(By.LINK_TEXT, 'next').click()\n",
    "                time.sleep(slp)\n",
    "\n",
    "            temp_df = pd.DataFrame(columns=[\n",
    "                \"player_name\", \"team_number\", \"team_name\", \"age\",\"position\", \"Apps\", \"Mins\", \"Tackles\",\n",
    "                \"Inter\", \"Fouls\", \"Offsides\", \"Clear\",\"Drb\", \"Blocks\",\"OwnG\",\"Rating\"])\n",
    "\n",
    "            elements = driver.find_elements(By.CSS_SELECTOR, \"#player-table-statistics-body tr\")[10:]\n",
    "\n",
    "            for element in elements:\n",
    "                player_statistics_dict = { \n",
    "                    \"player_name\": element.find_elements(By.CSS_SELECTOR, \"td\")[0].find_elements(By.CSS_SELECTOR, \"a\")[0].find_elements(By.CSS_SELECTOR, \"span\")[0].get_attribute(\"textContent\").split(\"\\t\")[0],\n",
    "                    \"team_number\": element.find_elements(By.CSS_SELECTOR, \"td\")[0].\n",
    "                    find_elements(By.CSS_SELECTOR, \"a\")[1].get_attribute(\"href\").split(\"/\")[4],\n",
    "                    \"team_name\": element.find_elements(By.CSS_SELECTOR, \"td\")[0].find_elements(By.CSS_SELECTOR, \"a\")[1].find_elements(By.CSS_SELECTOR, \"span\")[0].get_attribute(\"textContent\").split(\"\\t\")[0].split(\",\")[0],\n",
    "                    \"age\": element.find_elements(By.CSS_SELECTOR, \"td\")[0].find_elements(By.CSS_SELECTOR, \"span\")[4].get_attribute(\"textContent\").split(\"\\t\")[0],\n",
    "                    \"position\": element.find_elements(By.CSS_SELECTOR, \"td\")[0].find_elements(By.CSS_SELECTOR, \"span\")[5].get_attribute(\"textContent\").split(\"\\t\")[0][2:],\n",
    "                    \"Apps\": element.find_elements(By.CSS_SELECTOR, \"td\")[2].get_attribute(\"textContent\").split(\"\\t\")[0],\n",
    "                    \"Mins\": element.find_elements(By.CSS_SELECTOR, \"td\")[3].get_attribute(\"textContent\").split(\"\\t\")[0], \n",
    "                    \"Tackles\": element.find_elements(By.CSS_SELECTOR, \"td\")[4].get_attribute(\"textContent\").split(\"\\t\")[0],\n",
    "                    \"Inter\": element.find_elements(By.CSS_SELECTOR, \"td\")[5].get_attribute(\"textContent\").split(\"\\t\")[0], \n",
    "                    \"Fouls\": element.find_elements(By.CSS_SELECTOR, \"td\")[6].get_attribute(\"textContent\").split(\"\\t\")[0], \n",
    "                    \"Offsides\": element.find_elements(By.CSS_SELECTOR, \"td\")[7].get_attribute(\"textContent\").split(\"\\t\")[0],\n",
    "                    \"Clear\": element.find_elements(By.CSS_SELECTOR, \"td\")[8].get_attribute(\"textContent\").split(\"\\t\")[0],\n",
    "                    \"Drb\": element.find_elements(By.CSS_SELECTOR, \"td\")[9].get_attribute(\"textContent\").split(\"\\t\")[0],\n",
    "                    \"Blocks\": element.find_elements(By.CSS_SELECTOR, \"td\")[10].get_attribute(\"textContent\").split(\"\\t\")[0],\n",
    "                    \"OwnG\": element.find_elements(By.CSS_SELECTOR, \"td\")[11].get_attribute(\"textContent\").split(\"\\t\")[0],\n",
    "                    \"Rating\": element.find_elements(By.CSS_SELECTOR, \"td\")[12].get_attribute(\"textContent\").split(\"\\t\")[0],\n",
    "                }\n",
    "                temp_df.loc[len(temp_df)] = player_statistics_dict\n",
    "\n",
    "\n",
    "            player_statistics_df = pd.concat([player_statistics_df,temp_df])\n",
    "            pbar.update(1)\n",
    "            pbar.set_description('page {}'.format(i+1))\n",
    "        \n",
    "    driver.close()\n",
    "    \n",
    "    player_statistics_df.replace(\"-\", \"0\", inplace=True)\n",
    "    return(player_statistics_df)\n",
    "    "
   ]
  },
  {
   "cell_type": "code",
   "execution_count": 24,
   "metadata": {},
   "outputs": [],
   "source": [
    "def crawling_player_statistics_offensive(URL):\n",
    "    \"\"\"\n",
    "    crawling player statistics(offensive) of certain league and season.\n",
    "    \n",
    "    Args :\n",
    "        URL : player statistics webpage URL\n",
    "        \n",
    "    return :\n",
    "        player statistics (dataframe)\n",
    "    \n",
    "    \"\"\"\n",
    "    url = str(URL)\n",
    "    options = Options()\n",
    "    options.add_argument(\"start-maximized\")\n",
    "    driver = webdriver.Chrome(service=Service(ChromeDriverManager().install()), options=options)\n",
    "    driver.get(url)   \n",
    "\n",
    "    time.sleep(slp) \n",
    "    \n",
    "    try:\n",
    "        driver.find_element(By.XPATH, '//*[@id=\"qc-cmp2-ui\"]/div[2]/div/button[2]/span').click()\n",
    "    except NoSuchElementException:\n",
    "        pass\n",
    "    \n",
    "\n",
    "    time.sleep(slp)\n",
    "    \n",
    "    driver.find_element(By.LINK_TEXT, \"Offensive\").click()\n",
    "\n",
    "    \n",
    "    time.sleep(slp)\n",
    "\n",
    "    \n",
    "    driver.find_element(By.LINK_TEXT, \"All players\").click()\n",
    "    \n",
    "    time.sleep(slp)\n",
    "\n",
    "    page = driver.find_elements(By.CSS_SELECTOR, '#statistics-paging-offensive > div > dl.listbox.right > dt > b')[0].get_attribute(\"textContent\").split(\"\\t\")[0]\n",
    "    page = int(page.split('/')[1].split(' ')[0])\n",
    "    \n",
    "    player_statistics_df = pd.DataFrame(columns=[\n",
    "            \"player_name\", \"team_number\", \"team_name\", \"age\",\"position\", \"Apps\", \"Mins\", \"Goals\",\n",
    "            \"Assists\", \"SpG\", \"KeyP\", \"Dribble\",\"Fouled\", \"Off\",\"Disp\",\"UnsTch\",\"Rating\"])\n",
    "    \n",
    "    with tqdm(total=page, file=sys.stdout) as pbar :\n",
    "        for i in range(page):\n",
    "            if i != 0:\n",
    "                driver.find_element(By.LINK_TEXT, 'next').click()\n",
    "                time.sleep(slp)\n",
    "\n",
    "            temp_df = pd.DataFrame(columns=[\n",
    "                \"player_name\", \"team_number\", \"team_name\", \"age\",\"position\", \"Apps\", \"Mins\", \"Goals\",\n",
    "                \"Assists\", \"SpG\", \"KeyP\", \"Dribble\",\"Fouled\", \"Off\",\"Disp\",\"UnsTch\",\"Rating\"])\n",
    "\n",
    "            elements = driver.find_elements(By.CSS_SELECTOR, \"#player-table-statistics-body tr\")[10:]\n",
    "\n",
    "            for element in elements:\n",
    "                player_statistics_dict = { \n",
    "                    \"player_name\": element.find_elements(By.CSS_SELECTOR, \"td\")[0].find_elements(By.CSS_SELECTOR, \"a\")[0].\n",
    "                    find_elements(By.CSS_SELECTOR, \"span\")[0].get_attribute(\"textContent\").split(\"\\t\")[0],\n",
    "                    \"team_number\": element.find_elements(By.CSS_SELECTOR, \"td\")[0].\n",
    "                    find_elements(By.CSS_SELECTOR, \"a\")[1].get_attribute(\"href\").split(\"/\")[4],\n",
    "                    \"team_name\": element.find_elements(By.CSS_SELECTOR, \"td\")[0].find_elements(By.CSS_SELECTOR,\"a\")[1].find_elements(By.CSS_SELECTOR, \"span\")[0].get_attribute(\"textContent\").split(\"\\t\")[0].split(\",\")[0],\n",
    "                    \"age\": element.find_elements(By.CSS_SELECTOR, \"td\")[0].find_elements(By.CSS_SELECTOR,\"span\")[4].get_attribute(\"textContent\").split(\"\\t\")[0],\n",
    "                    \"position\": element.find_elements(By.CSS_SELECTOR, \"td\")[0].find_elements(By.CSS_SELECTOR, \"span\")[5].get_attribute(\"textContent\").split(\"\\t\")[0][2:],\n",
    "                    \"Apps\": element.find_elements(By.CSS_SELECTOR, \"td\")[2].get_attribute(\"textContent\").split(\"\\t\")[0],\n",
    "                    \"Mins\": element.find_elements(By.CSS_SELECTOR, \"td\")[3].get_attribute(\"textContent\").split(\"\\t\")[0], \n",
    "                    \"Goals\": element.find_elements(By.CSS_SELECTOR, \"td\")[4].get_attribute(\"textContent\").split(\"\\t\")[0],\n",
    "                    \"Assists\": element.find_elements(By.CSS_SELECTOR, \"td\")[5].get_attribute(\"textContent\").split(\"\\t\")[0], \n",
    "                    \"SpG\": element.find_elements(By.CSS_SELECTOR, \"td\")[6].get_attribute(\"textContent\").split(\"\\t\")[0], \n",
    "                    \"KeyP\": element.find_elements(By.CSS_SELECTOR, \"td\")[7].get_attribute(\"textContent\").split(\"\\t\")[0],\n",
    "                    \"Dribble\": element.find_elements(By.CSS_SELECTOR, \"td\")[8].get_attribute(\"textContent\").split(\"\\t\")[0],\n",
    "                    \"Fouled\": element.find_elements(By.CSS_SELECTOR, \"td\")[9].get_attribute(\"textContent\").split(\"\\t\")[0],\n",
    "                    \"Off\": element.find_elements(By.CSS_SELECTOR, \"td\")[10].get_attribute(\"textContent\").split(\"\\t\")[0],\n",
    "                    \"Disp\": element.find_elements(By.CSS_SELECTOR, \"td\")[11].get_attribute(\"textContent\").split(\"\\t\")[0],\n",
    "                    \"UnsTch\": element.find_elements(By.CSS_SELECTOR, \"td\")[12].get_attribute(\"textContent\").split(\"\\t\")[0],\n",
    "                    \"Rating\": element.find_elements(By.CSS_SELECTOR, \"td\")[13].get_attribute(\"textContent\").split(\"\\t\")[0],\n",
    "                }\n",
    "                temp_df.loc[len(temp_df)] = player_statistics_dict\n",
    "\n",
    "\n",
    "            player_statistics_df = pd.concat([player_statistics_df,temp_df])\n",
    "            pbar.update(1)\n",
    "            pbar.set_description('page {}'.format(i+1))\n",
    "        \n",
    "    driver.close()\n",
    "\n",
    "    player_statistics_df.replace(\"-\", \"0\", inplace=True)\n",
    "    return(player_statistics_df)"
   ]
  },
  {
   "cell_type": "code",
   "execution_count": 25,
   "metadata": {},
   "outputs": [],
   "source": [
    "def crawling_player_statistics_passing(URL):\n",
    "\n",
    "    url = str(URL)\n",
    "    options = Options()\n",
    "    options.add_argument(\"start-maximized\")\n",
    "    driver = webdriver.Chrome(service=Service(ChromeDriverManager().install()), options=options)\n",
    "    driver.get(url)   \n",
    "\n",
    "    time.sleep(slp) \n",
    "    \n",
    "    try:\n",
    "        driver.find_element(By.XPATH, '//*[@id=\"qc-cmp2-ui\"]/div[2]/div/button[2]/span').click()\n",
    "    except NoSuchElementException:\n",
    "        pass\n",
    "\n",
    "    time.sleep(slp)\n",
    "    \n",
    "    driver.find_element(By.LINK_TEXT, \"Passing\").click()\n",
    "\n",
    "    \n",
    "    time.sleep(slp)\n",
    "\n",
    "    \n",
    "    driver.find_element(By.LINK_TEXT, \"All players\").click()\n",
    "\n",
    "\n",
    "    time.sleep(slp)\n",
    "    page = driver.find_elements(By.CSS_SELECTOR, '#statistics-paging-passing > div > dl.listbox.right > dt > b')[0].get_attribute(\"textContent\")\n",
    "    page = int(page.split('/')[1].split(' ')[0])\n",
    "    \n",
    "    player_statistics_df = pd.DataFrame(columns=[\n",
    "            \"player_name\", \"team_number\", \"team_name\", \"age\",\"position\", \"Apps\", \"Mins\", \"Assists\",\n",
    "            \"KeyP\", \"AvgP\",\"PS%\", \"Crosses\",\"LongB\",\"ThrB\",\"Rating\"])\n",
    "    \n",
    "    with tqdm(total=page, file=sys.stdout) as pbar :\n",
    "        for i in range(page):\n",
    "            if i != 0:\n",
    "                driver.find_element(By.LINK_TEXT, 'next').click()\n",
    "                time.sleep(slp)\n",
    "\n",
    "            temp_df = pd.DataFrame(columns=[\n",
    "                \"player_name\", \"team_number\", \"team_name\", \"age\",\"position\", \"Apps\", \"Mins\",\"Assists\",\n",
    "                \"KeyP\", \"AvgP\",\"PS%\", \"Crosses\",\"LongB\",\"ThrB\",\"Rating\"])\n",
    "\n",
    "            elements = driver.find_elements(By.CSS_SELECTOR, \"#player-table-statistics-body tr\")[10:]\n",
    "\n",
    "            for element in elements:\n",
    "                player_statistics_dict = { \n",
    "                    \"player_name\": element.find_elements(By.CSS_SELECTOR, \"td\")[0].find_elements(By.CSS_SELECTOR, \"a\")[0].\n",
    "                    find_elements(By.CSS_SELECTOR, \"span\")[0].get_attribute(\"textContent\").split(\"\\t\")[0],\n",
    "                    \"team_number\": element.find_elements(By.CSS_SELECTOR, \"td\")[0].\n",
    "                    find_elements(By.CSS_SELECTOR, \"a\")[1].get_attribute(\"href\").split(\"/\")[4],\n",
    "                    \"team_name\": element.find_elements(By.CSS_SELECTOR, \"td\")[0].find_elements(By.CSS_SELECTOR, \"a\")[1].find_elements(By.CSS_SELECTOR, \"span\")[0].get_attribute(\"textContent\").split(\"\\t\")[0].split(\",\")[0],\n",
    "                    \"age\": element.find_elements(By.CSS_SELECTOR, \"td\")[0].find_elements(By.CSS_SELECTOR, \"span\")[4].get_attribute(\"textContent\").split(\"\\t\")[0],\n",
    "                    \"position\": element.find_elements(By.CSS_SELECTOR, \"td\")[0].find_elements(By.CSS_SELECTOR, \"span\")[5].get_attribute(\"textContent\").split(\"\\t\")[0][2:],\n",
    "                    \"Apps\": element.find_elements(By.CSS_SELECTOR, \"td\")[2].get_attribute(\"textContent\").split(\"\\t\")[0],\n",
    "                    \"Mins\": element.find_elements(By.CSS_SELECTOR, \"td\")[3].get_attribute(\"textContent\").split(\"\\t\")[0], \n",
    "                    \"Assists\": element.find_elements(By.CSS_SELECTOR, \"td\")[4].get_attribute(\"textContent\").split(\"\\t\")[0],\n",
    "                    \"KeyP\": element.find_elements(By.CSS_SELECTOR, \"td\")[5].get_attribute(\"textContent\").split(\"\\t\")[0], \n",
    "                    \"AvgP\": element.find_elements(By.CSS_SELECTOR, \"td\")[6].get_attribute(\"textContent\").split(\"\\t\")[0], \n",
    "                    \"PS%\": element.find_elements(By.CSS_SELECTOR, \"td\")[7].get_attribute(\"textContent\").split(\"\\t\")[0],\n",
    "                    \"Crosses\": element.find_elements(By.CSS_SELECTOR, \"td\")[8].get_attribute(\"textContent\").split(\"\\t\")[0],\n",
    "                    \"LongB\": element.find_elements(By.CSS_SELECTOR, \"td\")[9].get_attribute(\"textContent\").split(\"\\t\")[0],\n",
    "                    \"ThrB\": element.find_elements(By.CSS_SELECTOR, \"td\")[10].get_attribute(\"textContent\").split(\"\\t\")[0],\n",
    "                    \"Rating\": element.find_elements(By.CSS_SELECTOR, \"td\")[11].get_attribute(\"textContent\").split(\"\\t\")[0],\n",
    "                }\n",
    "                temp_df.loc[len(temp_df)] = player_statistics_dict\n",
    "\n",
    "\n",
    "            player_statistics_df = pd.concat([player_statistics_df,temp_df])\n",
    "            pbar.update(1)\n",
    "            pbar.set_description('page {}'.format(i+1))\n",
    "        \n",
    "    driver.close()\n",
    "    player_statistics_df.replace(\"-\", \"0\", inplace=True)\n",
    "\n",
    "    return(player_statistics_df)"
   ]
  },
  {
   "attachments": {},
   "cell_type": "markdown",
   "metadata": {},
   "source": [
    "# crwaling player stats at once"
   ]
  },
  {
   "cell_type": "code",
   "execution_count": 7,
   "metadata": {},
   "outputs": [],
   "source": [
    "def crwaling_player_stats_at_once(URL):\n",
    "    stats_summary = crawling_player_statistics(URL)\n",
    "    print('player stats summary : done')\n",
    "    stats_defensive = crawling_player_statistics_defensive(URL)\n",
    "    print('player stats defensive : done')\n",
    "    stats_offensive = crawling_player_statistics_offensive(URL)\n",
    "    print('player stats offensive : done')\n",
    "    stats_passing = crawling_player_statistics_passing(URL)\n",
    "    print('player stats passing : done')\n",
    "    player_stats = pd.merge(pd.merge(stats_passing, stats_summary), \n",
    "                            pd.merge(stats_offensive, stats_defensive))\n",
    "    return(player_stats)"
   ]
  },
  {
   "cell_type": "code",
   "execution_count": null,
   "metadata": {},
   "outputs": [],
   "source": [
    "Premier = [\n",
    "'https://1xbet.whoscored.com/Regions/252/Tournaments/2/Seasons/6335/Stages/13796/PlayerStatistics/England-Premier-League-2016-2017'\n",
    "'https://1xbet.whoscored.com/Regions/252/Tournaments/2/Seasons/6829/Stages/15151/PlayerStatistics/England-Premier-League-2017-2018'\n",
    "'https://1xbet.whoscored.com/Regions/252/Tournaments/2/Seasons/7361/Stages/16368/PlayerStatistics/England-Premier-League-2018-2019'\n",
    "'https://1xbet.whoscored.com/Regions/252/Tournaments/2/Seasons/7811/Stages/17590/PlayerStatistics/England-Premier-League-2019-2020'\n",
    "'https://1xbet.whoscored.com/Regions/252/Tournaments/2/Seasons/8228/Stages/18685/PlayerStatistics/England-Premier-League-2020-2021'\n",
    "'https://1xbet.whoscored.com/Regions/252/Tournaments/2/Seasons/8618/Stages/19793/PlayerStatistics/England-Premier-League-2021-2022'\n",
    "]\n",
    "\n",
    "Championship = [\n",
    "  'https://1xbet.whoscored.com/Regions/252/Tournaments/7/Seasons/6365/Stages/13832/PlayerStatistics/England-Championship-2016-2017',\n",
    "  'https://1xbet.whoscored.com/Regions/252/Tournaments/7/Seasons/6848/Stages/15177/PlayerStatistics/England-Championship-2017-2018',\n",
    "  'https://1xbet.whoscored.com/Regions/252/Tournaments/7/Seasons/7379/Stages/16389/PlayerStatistics/England-Championship-2018-2019',\n",
    "  'https://1xbet.whoscored.com/Regions/252/Tournaments/7/Seasons/7840/Stages/17629/PlayerStatistics/England-Championship-2019-2020',\n",
    "  'https://1xbet.whoscored.com/Regions/252/Tournaments/7/Seasons/8304/Stages/18825/PlayerStatistics/England-Championship-2020-2021',\n",
    "  'https://1xbet.whoscored.com/Regions/252/Tournaments/7/Seasons/8619/Stages/19794/PlayerStatistics/England-Championship-2021-2022'\n",
    "\n",
    "\n",
    "]\n",
    "\n",
    "SerieA = [\n",
    "'https://1xbet.whoscored.com/Regions/108/Tournaments/5/Seasons/6461/Stages/14014/PlayerStatistics/Italy-Serie-A-2016-2017',\n",
    "'https://1xbet.whoscored.com/Regions/108/Tournaments/5/Seasons/6974/Stages/15404/PlayerStatistics/Italy-Serie-A-2017-2018',\n",
    "'https://1xbet.whoscored.com/Regions/108/Tournaments/5/Seasons/7468/Stages/16548/PlayerStatistics/Italy-Serie-A-2018-2019',\n",
    "'https://1xbet.whoscored.com/Regions/108/Tournaments/5/Seasons/7928/Stages/17835/PlayerStatistics/Italy-Serie-A-2019-2020',\n",
    "'https://1xbet.whoscored.com/Regions/108/Tournaments/5/Seasons/8330/Stages/18873/PlayerStatistics/Italy-Serie-A-2020-2021',\n",
    "'https://1xbet.whoscored.com/Regions/108/Tournaments/5/Seasons/8735/Stages/19982/PlayerStatistics/Italy-Serie-A-2021-2022'\n",
    "]\n",
    "\n",
    "Laliga = [\n",
    "'https://1xbet.whoscored.com/Regions/206/Tournaments/4/Seasons/6436/Stages/13955/PlayerStatistics/Spain-LaLiga-2016-2017',\n",
    "'https://1xbet.whoscored.com/Regions/206/Tournaments/4/Seasons/6960/Stages/15375/PlayerStatistics/Spain-LaLiga-2017-2018',\n",
    "'https://1xbet.whoscored.com/Regions/206/Tournaments/4/Seasons/7466/Stages/16546/PlayerStatistics/Spain-LaLiga-2018-2019',\n",
    "'https://1xbet.whoscored.com/Regions/206/Tournaments/4/Seasons/7889/Stages/17702/PlayerStatistics/Spain-LaLiga-2019-2020',\n",
    "'https://1xbet.whoscored.com/Regions/206/Tournaments/4/Seasons/8321/Stages/18851/PlayerStatistics/Spain-LaLiga-2020-2021',\n",
    "'https://1xbet.whoscored.com/Regions/206/Tournaments/4/Seasons/8681/Stages/19895/PlayerStatistics/Spain-LaLiga-2021-2022'\n",
    "]\n",
    "\n",
    "Bundesliga = [\n",
    "'https://1xbet.whoscored.com/Regions/81/Tournaments/3/Seasons/6392/Stages/13872/PlayerStatistics/Germany-Bundesliga-2016-2017',\n",
    "'https://1xbet.whoscored.com/Regions/81/Tournaments/3/Seasons/6902/Stages/15243/PlayerStatistics/Germany-Bundesliga-2017-2018',\n",
    "'https://1xbet.whoscored.com/Regions/81/Tournaments/3/Seasons/7405/Stages/16427/PlayerStatistics/Germany-Bundesliga-2018-2019',\n",
    "'https://1xbet.whoscored.com/Regions/81/Tournaments/3/Seasons/7872/Stages/17682/PlayerStatistics/Germany-Bundesliga-2019-2020',\n",
    "'https://1xbet.whoscored.com/Regions/81/Tournaments/3/Seasons/8279/Stages/18762/PlayerStatistics/Germany-Bundesliga-2020-2021',\n",
    "'https://1xbet.whoscored.com/Regions/81/Tournaments/3/Seasons/8667/Stages/19862/PlayerStatistics/Germany-Bundesliga-2021-2022'\n",
    "]\n",
    "\n",
    "Ligue1 = [\n",
    "'https://1xbet.whoscored.com/Regions/74/Tournaments/22/Seasons/6318/Stages/13768/PlayerStatistics/France-Ligue-1-2016-2017',\n",
    "'https://1xbet.whoscored.com/Regions/74/Tournaments/22/Seasons/6833/Stages/15155/PlayerStatistics/France-Ligue-1-2017-2018',\n",
    "'https://1xbet.whoscored.com/Regions/74/Tournaments/22/Seasons/7344/Stages/16348/PlayerStatistics/France-Ligue-1-2018-2019',\n",
    "'https://1xbet.whoscored.com/Regions/74/Tournaments/22/Seasons/7814/Stages/17593/PlayerStatistics/France-Ligue-1-2019-2020',\n",
    "'https://1xbet.whoscored.com/Regions/74/Tournaments/22/Seasons/8185/Stages/18594/PlayerStatistics/France-Ligue-1-2020-2021',\n",
    "'https://1xbet.whoscored.com/Regions/74/Tournaments/22/Seasons/8671/Stages/19866/PlayerStatistics/France-Ligue-1-2021-2022' \n",
    "]\n",
    "\n",
    "Portugal = [\n",
    "'https://1xbet.whoscored.com/Regions/177/Tournaments/21/Seasons/6438/Stages/13957/PlayerStatistics/Portugal-Liga-2016-2017',\n",
    "'https://1xbet.whoscored.com/Regions/177/Tournaments/21/Seasons/6933/Stages/15323/PlayerStatistics/Portugal-Liga-2017-2018',\n",
    "'https://1xbet.whoscored.com/Regions/177/Tournaments/21/Seasons/7429/Stages/16461/PlayerStatistics/Portugal-Liga-2018-2019',\n",
    "'https://1xbet.whoscored.com/Regions/177/Tournaments/21/Seasons/7893/Stages/17710/PlayerStatistics/Portugal-Liga-2019-2020',\n",
    "'https://1xbet.whoscored.com/Regions/177/Tournaments/21/Seasons/8315/Stages/18842/PlayerStatistics/Portugal-Liga-2020-2021',\n",
    "'https://1xbet.whoscored.com/Regions/177/Tournaments/21/Seasons/8714/Stages/19947/PlayerStatistics/Portugal-Liga-2021-2022'\n",
    "]\n",
    "\n",
    "Eredivisie = [\n",
    "  'https://1xbet.whoscored.com/Regions/155/Tournaments/13/Seasons/6331/Stages/13792/PlayerStatistics/Netherlands-Eredivisie-2016-2017',\n",
    "  'https://1xbet.whoscored.com/Regions/155/Tournaments/13/Seasons/6826/Stages/15148/PlayerStatistics/Netherlands-Eredivisie-2017-2018',\n",
    "  'https://1xbet.whoscored.com/Regions/155/Tournaments/13/Seasons/7354/Stages/16360/PlayerStatistics/Netherlands-Eredivisie-2018-2019',\n",
    "  'https://1xbet.whoscored.com/Regions/155/Tournaments/13/Seasons/7815/Stages/17594/PlayerStatistics/Netherlands-Eredivisie-2019-2020',\n",
    "  'https://1xbet.whoscored.com/Regions/155/Tournaments/13/Seasons/8187/Stages/18596/PlayerStatistics/Netherlands-Eredivisie-2020-2021',\n",
    "  'https://1xbet.whoscored.com/Regions/155/Tournaments/13/Seasons/8625/Stages/19802/PlayerStatistics/Netherlands-Eredivisie-2021-2022'\n",
    "]\n",
    "\n",
    "Belgique = [\n",
    "  'https://1xbet.whoscored.com/Regions/22/Tournaments/18/Seasons/8197/Stages/18620/PlayerStatistics/Belgium-Jupiler-Pro-League-2020-2021',\n",
    "  'https://1xbet.whoscored.com/Regions/22/Tournaments/18/Seasons/8627/Stages/19808/PlayerStatistics/Belgium-Jupiler-Pro-League-2021-2022'\n",
    "]\n",
    "\n",
    "Argentina = [\n",
    "  \"https://1xbet.whoscored.com/Regions/11/Tournaments/68/Seasons/6484/Stages/14066/PlayerStatistics/Argentina-Liga-Profesional-2016-2017\",\n",
    "  \"https://1xbet.whoscored.com/Regions/11/Tournaments/68/Seasons/6995/Stages/15436/PlayerStatistics/Argentina-Liga-Profesional-2017-2018\",\n",
    "  \"https://1xbet.whoscored.com/Regions/11/Tournaments/68/Seasons/7460/Stages/16537/PlayerStatistics/Argentina-Liga-Profesional-2018-2019\",\n",
    "  \"https://1xbet.whoscored.com/Regions/11/Tournaments/68/Seasons/7905/Stages/17737/PlayerStatistics/Argentina-Liga-Profesional-2019-2020\",\n",
    "  \"https://1xbet.whoscored.com/Regions/11/Tournaments/68/Seasons/8679/Stages/19893/PlayerStatistics/Argentina-Liga-Profesional-2021\",\n",
    "  \"https://1xbet.whoscored.com/Regions/11/Tournaments/68/Seasons/9081/Stages/20951/PlayerStatistics/Argentina-Liga-Profesional-2022\"\n",
    "]\n",
    "\n",
    "Brazil = [\n",
    "  \"https://1xbet.whoscored.com/Regions/31/Tournaments/95/Seasons/6700/Stages/14746/PlayerStatistics/Brazil-Brasileir%C3%A3o-2017\",\n",
    "  \"https://1xbet.whoscored.com/Regions/31/Tournaments/95/Seasons/7243/Stages/15996/PlayerStatistics/Brazil-Brasileir%C3%A3o-2018\",\n",
    "  \"https://1xbet.whoscored.com/Regions/31/Tournaments/95/Seasons/7683/Stages/17175/PlayerStatistics/Brazil-Brasileir%C3%A3o-2019\",\n",
    "  \"https://1xbet.whoscored.com/Regions/31/Tournaments/95/Seasons/8158/Stages/18472/PlayerStatistics/Brazil-Brasileir%C3%A3o-2020\",\n",
    "  \"https://1xbet.whoscored.com/Regions/31/Tournaments/95/Seasons/8555/Stages/19551/PlayerStatistics/Brazil-Brasileir%C3%A3o-2021\",\n",
    "  \"https://1xbet.whoscored.com/Regions/31/Tournaments/95/Seasons/8984/Stages/20566/PlayerStatistics/Brazil-Brasileir%C3%A3o-2022\"\n",
    "]\n",
    "\n",
    "\n",
    "for i in Argentina:\n",
    "  Data = crwaling_player_stats_at_once(i)\n",
    "  Data.to_csv('../Data/Whoscored/'+i.split('/')[12]+'.csv')"
   ]
  },
  {
   "cell_type": "code",
   "execution_count": null,
   "metadata": {},
   "outputs": [],
   "source": [
    "Argentina = [\n",
    "  \"https://1xbet.whoscored.com/Regions/11/Tournaments/68/Seasons/6484/Stages/14066/PlayerStatistics/Argentina-Liga-Profesional-2016-2017\",\n",
    "  \"https://1xbet.whoscored.com/Regions/11/Tournaments/68/Seasons/6995/Stages/15436/PlayerStatistics/Argentina-Liga-Profesional-2017-2018\",\n",
    "  \"https://1xbet.whoscored.com/Regions/11/Tournaments/68/Seasons/7460/Stages/16537/PlayerStatistics/Argentina-Liga-Profesional-2018-2019\",\n",
    "  \"https://1xbet.whoscored.com/Regions/11/Tournaments/68/Seasons/7905/Stages/17737/PlayerStatistics/Argentina-Liga-Profesional-2019-2020\",\n",
    "  \"https://1xbet.whoscored.com/Regions/11/Tournaments/68/Seasons/8679/Stages/19893/PlayerStatistics/Argentina-Liga-Profesional-2021\",\n",
    "  \"https://1xbet.whoscored.com/Regions/11/Tournaments/68/Seasons/9081/Stages/20951/PlayerStatistics/Argentina-Liga-Profesional-2022\"\n",
    "]"
   ]
  },
  {
   "cell_type": "code",
   "execution_count": 106,
   "metadata": {},
   "outputs": [],
   "source": [
    "URL = Brazil[3]"
   ]
  },
  {
   "cell_type": "code",
   "execution_count": 107,
   "metadata": {},
   "outputs": [
    {
     "name": "stdout",
     "output_type": "stream",
     "text": [
      "page 76: 100%|██████████| 76/76 [05:56<00:00,  4.69s/it]\n",
      "player stats summary : done\n"
     ]
    }
   ],
   "source": [
    "stats_summary = crawling_player_statistics(URL)\n",
    "print('player stats summary : done')"
   ]
  },
  {
   "cell_type": "code",
   "execution_count": 108,
   "metadata": {},
   "outputs": [
    {
     "name": "stdout",
     "output_type": "stream",
     "text": [
      "page 76: 100%|██████████| 76/76 [06:38<00:00,  5.25s/it]\n",
      "player stats passing : done\n"
     ]
    }
   ],
   "source": [
    "stats_passing = crawling_player_statistics_passing(URL)\n",
    "print('player stats passing : done')"
   ]
  },
  {
   "cell_type": "code",
   "execution_count": 109,
   "metadata": {},
   "outputs": [
    {
     "name": "stdout",
     "output_type": "stream",
     "text": [
      "page 76: 100%|██████████| 76/76 [06:43<00:00,  5.32s/it]\n",
      "player stats defensive : done\n"
     ]
    }
   ],
   "source": [
    "stats_defensive = crawling_player_statistics_defensive(URL)\n",
    "print('player stats defensive : done')"
   ]
  },
  {
   "cell_type": "code",
   "execution_count": 110,
   "metadata": {},
   "outputs": [
    {
     "name": "stdout",
     "output_type": "stream",
     "text": [
      "page 76: 100%|██████████| 76/76 [06:59<00:00,  5.53s/it]\n",
      "player stats offensive : done\n"
     ]
    }
   ],
   "source": [
    "stats_offensive = crawling_player_statistics_offensive(URL)\n",
    "print('player stats offensive : done')"
   ]
  },
  {
   "cell_type": "code",
   "execution_count": 111,
   "metadata": {},
   "outputs": [],
   "source": [
    "player_stats = pd.merge(pd.merge(stats_passing, stats_summary), \n",
    "                    pd.merge(stats_offensive, stats_defensive))"
   ]
  },
  {
   "cell_type": "code",
   "execution_count": 112,
   "metadata": {},
   "outputs": [],
   "source": [
    "player_stats.to_csv('../Data/Whoscored/'+URL.split('/')[12]+'.csv')"
   ]
  },
  {
   "cell_type": "code",
   "execution_count": 120,
   "metadata": {},
   "outputs": [],
   "source": [
    "URL = Brazil[5]"
   ]
  },
  {
   "cell_type": "code",
   "execution_count": 121,
   "metadata": {},
   "outputs": [
    {
     "name": "stdout",
     "output_type": "stream",
     "text": [
      "page 77: 100%|██████████| 77/77 [06:39<00:00,  5.19s/it]\n",
      "player stats summary : done\n"
     ]
    }
   ],
   "source": [
    "stats_summary = crawling_player_statistics(URL)\n",
    "print('player stats summary : done')"
   ]
  },
  {
   "cell_type": "code",
   "execution_count": 122,
   "metadata": {},
   "outputs": [
    {
     "name": "stdout",
     "output_type": "stream",
     "text": [
      "page 77: 100%|██████████| 77/77 [06:41<00:00,  5.21s/it]\n",
      "player stats passing : done\n"
     ]
    }
   ],
   "source": [
    "stats_passing = crawling_player_statistics_passing(URL)\n",
    "print('player stats passing : done')"
   ]
  },
  {
   "cell_type": "code",
   "execution_count": 123,
   "metadata": {},
   "outputs": [
    {
     "name": "stdout",
     "output_type": "stream",
     "text": [
      "page 77: 100%|██████████| 77/77 [06:21<00:00,  4.96s/it]\n",
      "player stats defensive : done\n"
     ]
    }
   ],
   "source": [
    "stats_defensive = crawling_player_statistics_defensive(URL)\n",
    "print('player stats defensive : done')"
   ]
  },
  {
   "cell_type": "code",
   "execution_count": 124,
   "metadata": {},
   "outputs": [
    {
     "name": "stdout",
     "output_type": "stream",
     "text": [
      "page 77: 100%|██████████| 77/77 [06:36<00:00,  5.15s/it]\n",
      "player stats offensive : done\n"
     ]
    }
   ],
   "source": [
    "stats_offensive = crawling_player_statistics_offensive(URL)\n",
    "print('player stats offensive : done')"
   ]
  },
  {
   "cell_type": "code",
   "execution_count": 125,
   "metadata": {},
   "outputs": [],
   "source": [
    "player_stats = pd.merge(pd.merge(stats_passing, stats_summary), \n",
    "                    pd.merge(stats_offensive, stats_defensive))"
   ]
  },
  {
   "cell_type": "code",
   "execution_count": 126,
   "metadata": {},
   "outputs": [],
   "source": [
    "player_stats.to_csv('../Data/Whoscored/'+URL.split('/')[12]+'.csv')"
   ]
  },
  {
   "cell_type": "code",
   "execution_count": 127,
   "metadata": {},
   "outputs": [
    {
     "name": "stdout",
     "output_type": "stream",
     "text": [
      "('9', 'Premier-League', 'England1')\n",
      "2019-2020\n"
     ]
    },
    {
     "name": "stderr",
     "output_type": "stream",
     "text": [
      "C:\\Users\\AymenBouhou\\AppData\\Local\\Temp\\ipykernel_12144\\3723459488.py:28: SettingWithCopyWarning: \n",
      "A value is trying to be set on a copy of a slice from a DataFrame.\n",
      "Try using .loc[row_indexer,col_indexer] = value instead\n",
      "\n",
      "See the caveats in the documentation: https://pandas.pydata.org/pandas-docs/stable/user_guide/indexing.html#returning-a-view-versus-a-copy\n",
      "  player_table['Season'] = season\n",
      "C:\\Users\\AymenBouhou\\AppData\\Local\\Temp\\ipykernel_12144\\3723459488.py:29: SettingWithCopyWarning: \n",
      "A value is trying to be set on a copy of a slice from a DataFrame.\n",
      "Try using .loc[row_indexer,col_indexer] = value instead\n",
      "\n",
      "See the caveats in the documentation: https://pandas.pydata.org/pandas-docs/stable/user_guide/indexing.html#returning-a-view-versus-a-copy\n",
      "  player_table['League'] = ligue[2]\n"
     ]
    },
    {
     "name": "stdout",
     "output_type": "stream",
     "text": [
      "shooting\n",
      "passing\n",
      "gca\n",
      "defense\n",
      "possession\n",
      "misc\n",
      "keepers\n",
      "keepersadv\n",
      "passing_types\n",
      "Collected:  2019-2020\n",
      "2020-2021\n"
     ]
    },
    {
     "name": "stderr",
     "output_type": "stream",
     "text": [
      "C:\\Users\\AymenBouhou\\AppData\\Local\\Temp\\ipykernel_12144\\3723459488.py:28: SettingWithCopyWarning: \n",
      "A value is trying to be set on a copy of a slice from a DataFrame.\n",
      "Try using .loc[row_indexer,col_indexer] = value instead\n",
      "\n",
      "See the caveats in the documentation: https://pandas.pydata.org/pandas-docs/stable/user_guide/indexing.html#returning-a-view-versus-a-copy\n",
      "  player_table['Season'] = season\n",
      "C:\\Users\\AymenBouhou\\AppData\\Local\\Temp\\ipykernel_12144\\3723459488.py:29: SettingWithCopyWarning: \n",
      "A value is trying to be set on a copy of a slice from a DataFrame.\n",
      "Try using .loc[row_indexer,col_indexer] = value instead\n",
      "\n",
      "See the caveats in the documentation: https://pandas.pydata.org/pandas-docs/stable/user_guide/indexing.html#returning-a-view-versus-a-copy\n",
      "  player_table['League'] = ligue[2]\n"
     ]
    },
    {
     "name": "stdout",
     "output_type": "stream",
     "text": [
      "shooting\n",
      "passing\n",
      "gca\n",
      "defense\n",
      "possession\n",
      "misc\n",
      "keepers\n",
      "keepersadv\n",
      "passing_types\n",
      "Collected:  2020-2021\n",
      "2021-2022\n"
     ]
    },
    {
     "name": "stderr",
     "output_type": "stream",
     "text": [
      "C:\\Users\\AymenBouhou\\AppData\\Local\\Temp\\ipykernel_12144\\3723459488.py:28: SettingWithCopyWarning: \n",
      "A value is trying to be set on a copy of a slice from a DataFrame.\n",
      "Try using .loc[row_indexer,col_indexer] = value instead\n",
      "\n",
      "See the caveats in the documentation: https://pandas.pydata.org/pandas-docs/stable/user_guide/indexing.html#returning-a-view-versus-a-copy\n",
      "  player_table['Season'] = season\n",
      "C:\\Users\\AymenBouhou\\AppData\\Local\\Temp\\ipykernel_12144\\3723459488.py:29: SettingWithCopyWarning: \n",
      "A value is trying to be set on a copy of a slice from a DataFrame.\n",
      "Try using .loc[row_indexer,col_indexer] = value instead\n",
      "\n",
      "See the caveats in the documentation: https://pandas.pydata.org/pandas-docs/stable/user_guide/indexing.html#returning-a-view-versus-a-copy\n",
      "  player_table['League'] = ligue[2]\n"
     ]
    },
    {
     "name": "stdout",
     "output_type": "stream",
     "text": [
      "shooting\n",
      "passing\n",
      "gca\n",
      "defense\n",
      "possession\n",
      "misc\n",
      "keepers\n",
      "keepersadv\n",
      "passing_types\n",
      "Collected:  2021-2022\n",
      "('12', 'La-Liga', 'Spain')\n",
      "2019-2020\n"
     ]
    },
    {
     "name": "stderr",
     "output_type": "stream",
     "text": [
      "C:\\Users\\AymenBouhou\\AppData\\Local\\Temp\\ipykernel_12144\\3723459488.py:28: SettingWithCopyWarning: \n",
      "A value is trying to be set on a copy of a slice from a DataFrame.\n",
      "Try using .loc[row_indexer,col_indexer] = value instead\n",
      "\n",
      "See the caveats in the documentation: https://pandas.pydata.org/pandas-docs/stable/user_guide/indexing.html#returning-a-view-versus-a-copy\n",
      "  player_table['Season'] = season\n",
      "C:\\Users\\AymenBouhou\\AppData\\Local\\Temp\\ipykernel_12144\\3723459488.py:29: SettingWithCopyWarning: \n",
      "A value is trying to be set on a copy of a slice from a DataFrame.\n",
      "Try using .loc[row_indexer,col_indexer] = value instead\n",
      "\n",
      "See the caveats in the documentation: https://pandas.pydata.org/pandas-docs/stable/user_guide/indexing.html#returning-a-view-versus-a-copy\n",
      "  player_table['League'] = ligue[2]\n"
     ]
    },
    {
     "name": "stdout",
     "output_type": "stream",
     "text": [
      "shooting\n",
      "passing\n",
      "gca\n",
      "defense\n",
      "possession\n",
      "misc\n",
      "keepers\n",
      "keepersadv\n",
      "passing_types\n",
      "Collected:  2019-2020\n",
      "2020-2021\n"
     ]
    },
    {
     "ename": "ValueError",
     "evalue": "No tables found",
     "output_type": "error",
     "traceback": [
      "\u001b[1;31m---------------------------------------------------------------------------\u001b[0m",
      "\u001b[1;31mValueError\u001b[0m                                Traceback (most recent call last)",
      "Cell \u001b[1;32mIn[127], line 24\u001b[0m\n\u001b[0;32m     22\u001b[0m htmlStr \u001b[39m=\u001b[39m res\u001b[39m.\u001b[39mreplace(\u001b[39m'\u001b[39m\u001b[39m<!--\u001b[39m\u001b[39m'\u001b[39m, \u001b[39m'\u001b[39m\u001b[39m'\u001b[39m)\n\u001b[0;32m     23\u001b[0m htmlStr \u001b[39m=\u001b[39m htmlStr\u001b[39m.\u001b[39mreplace(\u001b[39m'\u001b[39m\u001b[39m-->\u001b[39m\u001b[39m'\u001b[39m, \u001b[39m'\u001b[39m\u001b[39m'\u001b[39m)        \n\u001b[1;32m---> 24\u001b[0m dfs \u001b[39m=\u001b[39m pd\u001b[39m.\u001b[39;49mread_html(htmlStr, header\u001b[39m=\u001b[39;49m\u001b[39m1\u001b[39;49m)        \n\u001b[0;32m     25\u001b[0m team_table \u001b[39m=\u001b[39m dfs[\u001b[39m0\u001b[39m]\n\u001b[0;32m     26\u001b[0m player_table \u001b[39m=\u001b[39m dfs[\u001b[39m2\u001b[39m]\n",
      "File \u001b[1;32mc:\\Users\\AymenBouhou\\anaconda3\\lib\\site-packages\\pandas\\util\\_decorators.py:331\u001b[0m, in \u001b[0;36mdeprecate_nonkeyword_arguments.<locals>.decorate.<locals>.wrapper\u001b[1;34m(*args, **kwargs)\u001b[0m\n\u001b[0;32m    325\u001b[0m \u001b[39mif\u001b[39;00m \u001b[39mlen\u001b[39m(args) \u001b[39m>\u001b[39m num_allow_args:\n\u001b[0;32m    326\u001b[0m     warnings\u001b[39m.\u001b[39mwarn(\n\u001b[0;32m    327\u001b[0m         msg\u001b[39m.\u001b[39mformat(arguments\u001b[39m=\u001b[39m_format_argument_list(allow_args)),\n\u001b[0;32m    328\u001b[0m         \u001b[39mFutureWarning\u001b[39;00m,\n\u001b[0;32m    329\u001b[0m         stacklevel\u001b[39m=\u001b[39mfind_stack_level(),\n\u001b[0;32m    330\u001b[0m     )\n\u001b[1;32m--> 331\u001b[0m \u001b[39mreturn\u001b[39;00m func(\u001b[39m*\u001b[39margs, \u001b[39m*\u001b[39m\u001b[39m*\u001b[39mkwargs)\n",
      "File \u001b[1;32mc:\\Users\\AymenBouhou\\anaconda3\\lib\\site-packages\\pandas\\io\\html.py:1205\u001b[0m, in \u001b[0;36mread_html\u001b[1;34m(io, match, flavor, header, index_col, skiprows, attrs, parse_dates, thousands, encoding, decimal, converters, na_values, keep_default_na, displayed_only, extract_links)\u001b[0m\n\u001b[0;32m   1201\u001b[0m validate_header_arg(header)\n\u001b[0;32m   1203\u001b[0m io \u001b[39m=\u001b[39m stringify_path(io)\n\u001b[1;32m-> 1205\u001b[0m \u001b[39mreturn\u001b[39;00m _parse(\n\u001b[0;32m   1206\u001b[0m     flavor\u001b[39m=\u001b[39;49mflavor,\n\u001b[0;32m   1207\u001b[0m     io\u001b[39m=\u001b[39;49mio,\n\u001b[0;32m   1208\u001b[0m     match\u001b[39m=\u001b[39;49mmatch,\n\u001b[0;32m   1209\u001b[0m     header\u001b[39m=\u001b[39;49mheader,\n\u001b[0;32m   1210\u001b[0m     index_col\u001b[39m=\u001b[39;49mindex_col,\n\u001b[0;32m   1211\u001b[0m     skiprows\u001b[39m=\u001b[39;49mskiprows,\n\u001b[0;32m   1212\u001b[0m     parse_dates\u001b[39m=\u001b[39;49mparse_dates,\n\u001b[0;32m   1213\u001b[0m     thousands\u001b[39m=\u001b[39;49mthousands,\n\u001b[0;32m   1214\u001b[0m     attrs\u001b[39m=\u001b[39;49mattrs,\n\u001b[0;32m   1215\u001b[0m     encoding\u001b[39m=\u001b[39;49mencoding,\n\u001b[0;32m   1216\u001b[0m     decimal\u001b[39m=\u001b[39;49mdecimal,\n\u001b[0;32m   1217\u001b[0m     converters\u001b[39m=\u001b[39;49mconverters,\n\u001b[0;32m   1218\u001b[0m     na_values\u001b[39m=\u001b[39;49mna_values,\n\u001b[0;32m   1219\u001b[0m     keep_default_na\u001b[39m=\u001b[39;49mkeep_default_na,\n\u001b[0;32m   1220\u001b[0m     displayed_only\u001b[39m=\u001b[39;49mdisplayed_only,\n\u001b[0;32m   1221\u001b[0m     extract_links\u001b[39m=\u001b[39;49mextract_links,\n\u001b[0;32m   1222\u001b[0m )\n",
      "File \u001b[1;32mc:\\Users\\AymenBouhou\\anaconda3\\lib\\site-packages\\pandas\\io\\html.py:1006\u001b[0m, in \u001b[0;36m_parse\u001b[1;34m(flavor, io, match, attrs, encoding, displayed_only, extract_links, **kwargs)\u001b[0m\n\u001b[0;32m   1004\u001b[0m \u001b[39melse\u001b[39;00m:\n\u001b[0;32m   1005\u001b[0m     \u001b[39massert\u001b[39;00m retained \u001b[39mis\u001b[39;00m \u001b[39mnot\u001b[39;00m \u001b[39mNone\u001b[39;00m  \u001b[39m# for mypy\u001b[39;00m\n\u001b[1;32m-> 1006\u001b[0m     \u001b[39mraise\u001b[39;00m retained\n\u001b[0;32m   1008\u001b[0m ret \u001b[39m=\u001b[39m []\n\u001b[0;32m   1009\u001b[0m \u001b[39mfor\u001b[39;00m table \u001b[39min\u001b[39;00m tables:\n",
      "File \u001b[1;32mc:\\Users\\AymenBouhou\\anaconda3\\lib\\site-packages\\pandas\\io\\html.py:986\u001b[0m, in \u001b[0;36m_parse\u001b[1;34m(flavor, io, match, attrs, encoding, displayed_only, extract_links, **kwargs)\u001b[0m\n\u001b[0;32m    983\u001b[0m p \u001b[39m=\u001b[39m parser(io, compiled_match, attrs, encoding, displayed_only, extract_links)\n\u001b[0;32m    985\u001b[0m \u001b[39mtry\u001b[39;00m:\n\u001b[1;32m--> 986\u001b[0m     tables \u001b[39m=\u001b[39m p\u001b[39m.\u001b[39;49mparse_tables()\n\u001b[0;32m    987\u001b[0m \u001b[39mexcept\u001b[39;00m \u001b[39mValueError\u001b[39;00m \u001b[39mas\u001b[39;00m caught:\n\u001b[0;32m    988\u001b[0m     \u001b[39m# if `io` is an io-like object, check if it's seekable\u001b[39;00m\n\u001b[0;32m    989\u001b[0m     \u001b[39m# and try to rewind it before trying the next parser\u001b[39;00m\n\u001b[0;32m    990\u001b[0m     \u001b[39mif\u001b[39;00m \u001b[39mhasattr\u001b[39m(io, \u001b[39m\"\u001b[39m\u001b[39mseekable\u001b[39m\u001b[39m\"\u001b[39m) \u001b[39mand\u001b[39;00m io\u001b[39m.\u001b[39mseekable():\n",
      "File \u001b[1;32mc:\\Users\\AymenBouhou\\anaconda3\\lib\\site-packages\\pandas\\io\\html.py:262\u001b[0m, in \u001b[0;36m_HtmlFrameParser.parse_tables\u001b[1;34m(self)\u001b[0m\n\u001b[0;32m    254\u001b[0m \u001b[39mdef\u001b[39;00m \u001b[39mparse_tables\u001b[39m(\u001b[39mself\u001b[39m):\n\u001b[0;32m    255\u001b[0m \u001b[39m    \u001b[39m\u001b[39m\"\"\"\u001b[39;00m\n\u001b[0;32m    256\u001b[0m \u001b[39m    Parse and return all tables from the DOM.\u001b[39;00m\n\u001b[0;32m    257\u001b[0m \n\u001b[1;32m   (...)\u001b[0m\n\u001b[0;32m    260\u001b[0m \u001b[39m    list of parsed (header, body, footer) tuples from tables.\u001b[39;00m\n\u001b[0;32m    261\u001b[0m \u001b[39m    \"\"\"\u001b[39;00m\n\u001b[1;32m--> 262\u001b[0m     tables \u001b[39m=\u001b[39m \u001b[39mself\u001b[39;49m\u001b[39m.\u001b[39;49m_parse_tables(\u001b[39mself\u001b[39;49m\u001b[39m.\u001b[39;49m_build_doc(), \u001b[39mself\u001b[39;49m\u001b[39m.\u001b[39;49mmatch, \u001b[39mself\u001b[39;49m\u001b[39m.\u001b[39;49mattrs)\n\u001b[0;32m    263\u001b[0m     \u001b[39mreturn\u001b[39;00m (\u001b[39mself\u001b[39m\u001b[39m.\u001b[39m_parse_thead_tbody_tfoot(table) \u001b[39mfor\u001b[39;00m table \u001b[39min\u001b[39;00m tables)\n",
      "File \u001b[1;32mc:\\Users\\AymenBouhou\\anaconda3\\lib\\site-packages\\pandas\\io\\html.py:618\u001b[0m, in \u001b[0;36m_BeautifulSoupHtml5LibFrameParser._parse_tables\u001b[1;34m(self, doc, match, attrs)\u001b[0m\n\u001b[0;32m    615\u001b[0m tables \u001b[39m=\u001b[39m doc\u001b[39m.\u001b[39mfind_all(element_name, attrs\u001b[39m=\u001b[39mattrs)\n\u001b[0;32m    617\u001b[0m \u001b[39mif\u001b[39;00m \u001b[39mnot\u001b[39;00m tables:\n\u001b[1;32m--> 618\u001b[0m     \u001b[39mraise\u001b[39;00m \u001b[39mValueError\u001b[39;00m(\u001b[39m\"\u001b[39m\u001b[39mNo tables found\u001b[39m\u001b[39m\"\u001b[39m)\n\u001b[0;32m    620\u001b[0m result \u001b[39m=\u001b[39m []\n\u001b[0;32m    621\u001b[0m unique_tables \u001b[39m=\u001b[39m \u001b[39mset\u001b[39m()\n",
      "\u001b[1;31mValueError\u001b[0m: No tables found"
     ]
    }
   ],
   "source": [
    "import pandas as pd\n",
    "import requests\n",
    "import re\n",
    "#['2016-2017','2017-2018', '2018-2019', '2019-2020', '2020-2021','2021-2022']\n",
    "my_liste = [('9','Premier-League','England1'),\n",
    "            ('12','La-Liga','Spain'),\n",
    "            ('11','Serie-A','Italy'),\n",
    "            ('13','Ligue-1','France'),\n",
    "            ('20','Bundesliga','Germany'),\n",
    "            ('10','Championship','England2'),\n",
    "            ('23','Eredivisie','Netherlands'),\n",
    "            ('32','Primeira-Liga','Portugal'),\n",
    "            ('37','Belgian-First-Division-A','Belgium')]\n",
    "            \n",
    "for ligue in my_liste:  \n",
    "    print(ligue)\n",
    "    season_dfs = {}\n",
    "    for season in ['2019-2020', '2020-2021','2021-2022']:\n",
    "        print(season)\n",
    "        url = f'https://fbref.com/en/comps/{ligue[0]}/{season}/stats/{season}-{ligue[1]}-Stats'        \n",
    "        res = requests.get(url).text\n",
    "        htmlStr = res.replace('<!--', '')\n",
    "        htmlStr = htmlStr.replace('-->', '')        \n",
    "        dfs = pd.read_html(htmlStr, header=1)        \n",
    "        team_table = dfs[0]\n",
    "        player_table = dfs[2]\n",
    "        player_table = player_table[player_table['Rk'].ne('Rk')]\n",
    "        player_table['Season'] = season\n",
    "        player_table['League'] = ligue[2]\n",
    "        \n",
    "        for cat in ['shooting', 'passing', 'gca', 'defense', 'possession', 'misc', 'keepers', 'keepersadv', 'passing_types']:\n",
    "            print(cat)\n",
    "            cat_url = f'https://fbref.com/en/comps/{ligue[0]}/{season}/{cat}/players/{season}-{ligue[1]}-Stats'\n",
    "            resp = requests.get(cat_url).text\n",
    "            htmlStr = res.replace('<!--', '')\n",
    "            htmlStr = htmlStr.replace('-->', '')\n",
    "            temp_df = pd.read_html(htmlStr, header=1)[2]\n",
    "            temp_df = temp_df[temp_df['Rk'].ne('Rk')]\n",
    "            \n",
    "            newCols = ['Player'] + [x for x in temp_df.columns if x not in player_table.columns]\n",
    "            temp_df = temp_df[newCols]\n",
    "            \n",
    "            player_table = pd.merge(player_table, temp_df, how='outer', on='Player')\n",
    "            \n",
    "        season_dfs[season] = player_table\n",
    "        player_table.to_csv(ligue[2]+' '+season+'.csv')\n",
    "        print('Collected: ', season)"
   ]
  }
 ],
 "metadata": {
  "kernelspec": {
   "display_name": "base",
   "language": "python",
   "name": "python3"
  },
  "language_info": {
   "codemirror_mode": {
    "name": "ipython",
    "version": 3
   },
   "file_extension": ".py",
   "mimetype": "text/x-python",
   "name": "python",
   "nbconvert_exporter": "python",
   "pygments_lexer": "ipython3",
   "version": "3.10.9"
  },
  "vscode": {
   "interpreter": {
    "hash": "d6203d9569413f472cbef7e49f841849e643188f0fe66e32e9d8446063093a31"
   }
  }
 },
 "nbformat": 4,
 "nbformat_minor": 4
}
