{
 "cells": [
  {
   "cell_type": "code",
   "execution_count": null,
   "metadata": {},
   "outputs": [],
   "source": [
    "import os\n",
    "import pandas as pd\n",
    "import numpy as np"
   ]
  },
  {
   "cell_type": "code",
   "execution_count": null,
   "metadata": {},
   "outputs": [],
   "source": [
    "path = 'C:/Users/AymenBouhou/Desktop/QuadraticFoot/Data/Fifa/'"
   ]
  },
  {
   "cell_type": "code",
   "execution_count": null,
   "metadata": {},
   "outputs": [],
   "source": [
    "years_list = [str(year) for year in range(2017, 2024)]\n",
    "\n",
    "for i in years_list:\n",
    "    df+i\n",
    "\n",
    "# Determine the column to compare across the datasets\n",
    "column_to_compare = 'column_name'\n",
    "\n",
    "# Determine the list of columns to include in the table\n",
    "columns_to_include = []\n",
    "for df in [df_2017, df_2018, df_2019, df_2020, df_2021]:\n",
    "    if not df[column_to_compare].isnull().all():\n",
    "        columns_to_include.append(column_to_compare)\n",
    "\n",
    "# Create the table DataFrame\n",
    "table_data = []\n",
    "for df, df_name in zip([df_2017, df_2018, df_2019, df_2020, df_2021], ['2017', '2018', '2019', '2020', '2021']):\n",
    "    row_data = {}\n",
    "    for col in columns_to_include:\n",
    "        if df[col].isnull().all():\n",
    "            row_data[col] = 'X'\n",
    "        else:\n",
    "            row_data[col] = ''\n",
    "    table_data.append(row_data)\n",
    "table = pd.DataFrame(table_data, index=['2017', '2018', '2019', '2020', '2021'])\n",
    "\n",
    "# Print the table\n",
    "print(table)\n"
   ]
  }
 ],
 "metadata": {
  "language_info": {
   "name": "python"
  },
  "orig_nbformat": 4
 },
 "nbformat": 4,
 "nbformat_minor": 2
}
